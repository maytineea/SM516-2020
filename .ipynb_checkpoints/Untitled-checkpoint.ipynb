{
 "cells": [
  {
   "cell_type": "markdown",
   "metadata": {},
   "source": [
    "# <center>Statement"
   ]
  },
  {
   "cell_type": "markdown",
   "metadata": {},
   "source": [
    "<img src=\"https://drive.google.com/uc?id=1OCu-J_e5A3EtFQ6wLXjus9JGRjvy8ug0\" align=right width=100>"
   ]
  },
  {
   "cell_type": "markdown",
   "metadata": {},
   "source": [
    "ขั้\n",
    "1. Programs are composed of modules.\n",
    "2. Modules contain statements.\n",
    "3. Statements contain expressions.\n",
    "4. Expressions create and process objects."
   ]
  },
  {
   "cell_type": "markdown",
   "metadata": {},
   "source": [
    "# Python Statement"
   ]
  },
  {
   "cell_type": "markdown",
   "metadata": {},
   "source": [
    "<table>\n",
    "    <tr>\n",
    "        <td> <div align=center><b>Statement</b></div>\n",
    "        <td> <div align=center><b>หน้าที่ Role</b></div>\n",
    "        <td> <div align=center><b>ตัวอย่าง Example</b></div>\n",
    "     <tr>\n",
    "        <td>Assignment การให้ค่า\n",
    "        <td>Creating references สร้างเพื่อชี้ไปที่ค่า\n",
    "        <td><pre>a, b = 'good', 'bad'</pre>\n",
    "            <div align=center>ทางขวามือเรียกว่า Literals</div>\n",
    "     <tr>\n",
    "        <td>Calls and other expressions\n",
    "        <td>Running functions\n",
    "        <td><pre>log.write(\"spam, ham\")</pre>\n",
    "     <tr>\n",
    "        <td>print calls\n",
    "        <td>Printing objects\n",
    "        <td><pre>print('The Killer', joke)</pre>\n",
    "     <tr>\n",
    "        <td>if/elif/else\n",
    "        <td>Selecting actions\n",
    "        <td><pre>if \"python\" in text:</pre>\n",
    "            <div align=center>print(text)</div>\n",
    "     <tr>\n",
    "        <td>\n",
    "        <td>\n",
    "        <td><pre></pre>\n",
    "     <tr>\n",
    "        <td>\n",
    "        <td>\n",
    "        <td><pre></pre>\n",
    "            \n",
    "            \n",
    "              \n",
    "</table>"
   ]
  }
 ],
 "metadata": {
  "kernelspec": {
   "display_name": "Python 3",
   "language": "python",
   "name": "python3"
  },
  "language_info": {
   "codemirror_mode": {
    "name": "ipython",
    "version": 3
   },
   "file_extension": ".py",
   "mimetype": "text/x-python",
   "name": "python",
   "nbconvert_exporter": "python",
   "pygments_lexer": "ipython3",
   "version": "3.8.7"
  }
 },
 "nbformat": 4,
 "nbformat_minor": 4
}
