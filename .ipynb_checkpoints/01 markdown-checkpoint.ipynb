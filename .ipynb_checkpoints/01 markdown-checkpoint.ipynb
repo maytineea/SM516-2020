{
 "cells": [
  {
   "cell_type": "markdown",
   "metadata": {},
   "source": [
    "# <center>Markdown"
   ]
  },
  {
   "cell_type": "markdown",
   "metadata": {},
   "source": [
    "Markdown คือ การใช้ตัวอักษรกำกับรูปแบบการพิมพ์หรือการแสดงออกของตัวหนังสือ\n",
    "โดยผ่านกระบวนการ rendering \\[เทียบเท่ากับ run ใน code \\] (แสดงผล)\n",
    "\n",
    "จุดประสงค์เริ่มแรกของ Markdown คือจดคำบรรยายของอาจารย์ผู้สอน สำหรับคนที่พิมพ์สัมผัสไว\n",
    "\n",
    "Markdown แบ่งได้ 3 ประเภท\n",
    "\n",
    "1. Markdown\n",
    "1. HTML\n",
    "1. $\\LaTeX$ Equation"
   ]
  },
  {
   "cell_type": "markdown",
   "metadata": {},
   "source": [
    "## Markdown ที่เป็น Markdown"
   ]
  },
  {
   "cell_type": "markdown",
   "metadata": {},
   "source": [
    "* หัวข้อเรื่อง (Heading) ที่มีระดับ หัวข้อใช้เครื่องหมาย # และใช้จำนวนเครื่องหมายเป็นตัวบอกระดับ\n",
    "* ตัวเอียง กับตัวหนา \n",
    "    * อักษรตัวเอียง \\*ตัวเอียง\\* = *ตัวเอียง* หรือ \\_ตัวเอียง\\_ = _ตัวเอียง_\n",
    "    * อักษรตัวหนา \\*\\*ตัวหนา\\*\\* = **ตัวหนา** หรือ \\_\\_ตัวหนา\\_\\_ = __ตัวหนา__\n",
    "\n",
    "* หัวข้อ (List)\n",
    "    1. หัวข้อที่ไม่มีหมายเลข ใช้ \\* หรือ \\-\n",
    "    1. หัวข้อที่มีหมายเลข ใช้ 1. 1."
   ]
  },
  {
   "cell_type": "markdown",
   "metadata": {},
   "source": [
    "**รูปภาพ**\n",
    "\n",
    "![รุปภาพไม่ขึ้น]()"
   ]
  },
  {
   "cell_type": "markdown",
   "metadata": {},
   "source": [
    "![](images/อาจารย์สมพร.jpg)"
   ]
  },
  {
   "cell_type": "markdown",
   "metadata": {},
   "source": [
    "## Markdown ที่เป็น HTML"
   ]
  },
  {
   "cell_type": "markdown",
   "metadata": {},
   "source": [
    "HTML = HyperText Markup Language <คำสั่ง><\\คำสั่ง>\n",
    "\n",
    "หัวข้อเรือง \\<h1>หัวข้อ\\</h1>\n",
    "\n",
    "อักษรตัวหนา \\<b>อักษร\\</b>\n",
    "\n",
    "อักษรตัวเอียง \\<i>อักษร\\</i>\n",
    "\n",
    "อักษรขีดเส้นใต้ \\<u>อักษร\\</u> = <u>อักษร</u>"
   ]
  },
  {
   "cell_type": "markdown",
   "metadata": {},
   "source": [
    "## Markdown ที่เป็น $\\LaTeX$ Equation"
   ]
  },
  {
   "cell_type": "raw",
   "metadata": {},
   "source": [
    "ในบรรทัด $คณิตศาสตร์$\n",
    "\n",
    "สมการ\n",
    "\n",
    "$$คณิตศาสตร์$$\n"
   ]
  },
  {
   "cell_type": "markdown",
   "metadata": {},
   "source": [
    "The well known Pythagorean theorem $x^2 + y^2 = z^2$ was \n",
    "proved to be invalid for other exponents. \n",
    "Meaning the next equation has no integer solutions:\n",
    "\n",
    "$$ x^n + y^n = z^n $$"
   ]
  },
  {
   "cell_type": "markdown",
   "metadata": {},
   "source": [
    "อัตรส่วน $\\dfrac{1}{ax^2 + bx +c}$\n",
    "$$\\frac{1}{ax^2 + bx +c}$$"
   ]
  },
  {
   "cell_type": "markdown",
   "metadata": {},
   "source": [
    "ปริพันธ์ ${\\int}_{a}^{b} f(x) dx$\n",
    "\n",
    "ลิมิต $\\lim\\limits_{x \\to 0} 2x = 0$"
   ]
  },
  {
   "cell_type": "markdown",
   "metadata": {},
   "source": [
    "###### หัวข้อย่อยระดับสุดท้าย"
   ]
  },
  {
   "cell_type": "code",
   "execution_count": null,
   "metadata": {},
   "outputs": [],
   "source": []
  }
 ],
 "metadata": {
  "kernelspec": {
   "display_name": "Python 3",
   "language": "python",
   "name": "python3"
  },
  "language_info": {
   "codemirror_mode": {
    "name": "ipython",
    "version": 3
   },
   "file_extension": ".py",
   "mimetype": "text/x-python",
   "name": "python",
   "nbconvert_exporter": "python",
   "pygments_lexer": "ipython3",
   "version": "3.8.7"
  }
 },
 "nbformat": 4,
 "nbformat_minor": 4
}
