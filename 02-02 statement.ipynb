{
 "cells": [
  {
   "cell_type": "markdown",
   "metadata": {},
   "source": [
    "# <center>Statement"
   ]
  },
  {
   "cell_type": "markdown",
   "metadata": {},
   "source": [
    "<img src=\"https://drive.google.com/uc?id=1OCu-J_e5A3EtFQ6wLXjus9JGRjvy8ug0\" align=right width=100>"
   ]
  },
  {
   "cell_type": "markdown",
   "metadata": {},
   "source": [
    "This chapter climbs the hierarchy to the next level of Python\n",
    "program structure:\n",
    "1. Programs are composed of modules.\n",
    "2. Modules contain statements.\n",
    "3. Statements contain expressions.\n",
    "4. Expressions create and process objects."
   ]
  },
  {
   "cell_type": "markdown",
   "metadata": {},
   "source": [
    "# Python Statement"
   ]
  },
  {
   "cell_type": "markdown",
   "metadata": {},
   "source": [
    "Table 10-1. Python statements\n",
    "<table>\n",
    "    <tr>\n",
    "        <td><div align=center><b>Statement</b></div>\n",
    "        <td><div align=center><b>หน้าที่ Role</b></div>\n",
    "        <td><div align=center><b>ตัวอย่าง Example</b></div>\n",
    "    <tr>\n",
    "        <td><div align=left>Assignment การให้ค่า</div>\n",
    "        <td><div align=left>Creating references สร้างเพื่อชี้ไปที่ค่า</div>\n",
    "        <td><div align=left><pre>a, b = 'good', 'bad'</pre></div>\n",
    "    <tr>\n",
    "        <td><div align=left>alls and other expressions</div>\n",
    "        <td><div align=left>unning functions</div>\n",
    "        <td><div align=left><pre>log.write(\"spam, ham\")</pre></div>\n",
    "    <tr>\n",
    "        <td><div align=left>print calls</div>\n",
    "        <td><div align=left>Printing objects</div>\n",
    "        <td><div align=left><pre>print('The Killer', joke)</pre></div>\n",
    "    <tr>\n",
    "        <td><div align=left>if/elif/else</div>\n",
    "        <td><div align=left>Selecting actions</div>\n",
    "        <td><div align=left><pre>if \"python\" in text:</pre></div>\n",
    "            <div align=left><pre>     print(text)</pre></div>\n",
    "    <tr>\n",
    "        <td><div align=left>for/else</div>\n",
    "        <td><div align=left>Iteration</div>\n",
    "        <td><div align=left><pre>for x in mylist:</pre></div>\n",
    "            <div align=left><pre>     print(x)</pre></div>\n",
    "    <tr>\n",
    "        <td><div align=left>while/else</div>\n",
    "        <td><div align=left>General loops</div>\n",
    "        <td><div align=left><pre>while X > Y:</pre></div>\n",
    "            <div align=left><pre>     print('hello')</pre></div>\n",
    "    <tr>\n",
    "        <td><div align=left>pass</div>\n",
    "        <td><div align=left>Empty placeholder</div>\n",
    "        <td><div align=left><pre>while True:</pre></div>\n",
    "            <div align=left><pre>     pass</pre></div>\n",
    "    <tr>\n",
    "        <td><div align=left>break</div>\n",
    "        <td><div align=left>Loop exit</div>\n",
    "        <td><div align=left><pre>while True:</pre></div>\n",
    "            <div align=left><pre>     if exittest(): break</pre></div>\n",
    "    <tr>\n",
    "        <td><div align=left>continue</div>\n",
    "        <td><div align=left>Loop continue</div>\n",
    "        <td><div align=left><pre>while True:</pre></div>\n",
    "            <div align=left><pre>     if skiptest(): continue</pre></div>\n",
    "    <tr>\n",
    "        <td><div align=left>def</div>\n",
    "        <td><div align=left>Functions and methods</div>\n",
    "        <td><div align=left><pre>def f(a, b, c=1, *d):</pre></div>\n",
    "            <div align=left><pre>     print(a+b+c+d[0])</pre></div>\n",
    "    <tr>\n",
    "        <td><div align=left>return</div>\n",
    "        <td><div align=left>Functions results</div>\n",
    "        <td><div align=left><pre>def f(a, b, c=1, *d):</pre></div>\n",
    "            <div align=left><pre>     return a+b+c+d[0]</pre></div>       \n",
    "    <tr>\n",
    "        <td><div align=left>yield</div>\n",
    "        <td><div align=left>Generator functions</div>\n",
    "        <td><div align=left><pre>def gen(n):</pre></div>\n",
    "            <div align=left><pre>     for i in n: yield i*2</pre></div>       \n",
    "    <tr>\n",
    "        <td><div align=left>global</div>\n",
    "        <td><div align=left>Namespaces</div>\n",
    "        <td><div align=left><pre>x = 'old</pre></div>\n",
    "            <div align=left><pre>def function():</pre></div>\n",
    "            <div align=left><pre>     global x, y; x = 'new'</pre></div>            \n",
    "    <tr>\n",
    "        <td><div align=left>onlocal</div>\n",
    "        <td><div align=left>Namespaces (3.X)</div>\n",
    "        <td><div align=left><pre>def outer():</pre>\n",
    "            <div align=left><pre>     x = 'old'</pre></div>\n",
    "            <div align=left><pre>     def function():</pre></div>\n",
    "            <div align=left><pre>        nonlocal x; x = 'new'</pre></div>           \n",
    "    <tr>\n",
    "        <td><div align=left>import</div>\n",
    "        <td><div align=left>Module access</div>\n",
    "        <td><div align=left><pre>import sys</pre></div>           \n",
    "    <tr>\n",
    "        <td><div align=left>from</div>\n",
    "        <td><div align=left>Attribute access</div>\n",
    "        <td><div align=left><pre>from sys import stdin</pre></div>      \n",
    "    <tr>\n",
    "        <td><div align=left>class</div>\n",
    "        <td><div align=left>Building objects</div>\n",
    "        <td><div align=left><pre>class Subclass(Superclass):</pre></div>\n",
    "            <div align=left><pre>     staticData = []</pre></div>\n",
    "            <div align=left><pre>     def method(self): pass</pre></div>\n",
    "    <tr>\n",
    "        <td><div align=left>try/except/finally</div>\n",
    "        <td><div align=left>Catching exceptions</div>\n",
    "        <td><div align=left><pre>try:</pre></div>\n",
    "            <div align=left><pre>     action()</pre></div>\n",
    "            <div align=left><pre>except:</pre></div>\n",
    "            <div align=left><pre>     print('action error')</pre></div>\n",
    "    <tr>\n",
    "        <td><div align=left>raise</div>\n",
    "        <td><div align=left>Triggering exceptions</div>\n",
    "        <td><div align=left><pre>raise EndSearch(location):</pre></div>\n",
    "    <tr>\n",
    "        <td><div align=left>assert</div>\n",
    "        <td><div align=left>Debugging checks</div>\n",
    "        <td><div align=left><pre>assert X > Y, 'X too small'</pre></div>       \n",
    "    <tr>\n",
    "        <td><div align=left>with/as</div>\n",
    "        <td><div align=left>Context managers (3.X, 2.6+)</div>\n",
    "        <td><div align=left><pre>with open('data') as myfile:</pre></div>\n",
    "            <div align=left><pre>     process(myfile)</pre></div>\n",
    "    <tr>\n",
    "        <td><div align=left>del</div>\n",
    "        <td><div align=left>Deleting references</div>\n",
    "        <td><div align=left><pre>del data[k]</pre></div>\n",
    "            <div align=left><pre>del data[i:j]</pre></div>  \n",
    "            <div align=left><pre>del obj.attr</pre></div> \n",
    "            <div align=left><pre>del variable</pre></div> \n",
    "              \n",
    "</table>"
   ]
  },
  {
   "cell_type": "markdown",
   "metadata": {},
   "source": [
    "statement บน python มีลักษณะสำคัญ\n",
    "\n",
    "1. ใช้กั้นหน้า (Indent) บอก Statement ระดับของกันหน้า ตามเครื่องหมายทวิภาค (:)\n",
    "1. หลีกเลี่ยงการใช้วงเล็บ \"()\" วงเล็บใช้กับตัวเก็บ (Container) แบบ Tuple"
   ]
  },
  {
   "cell_type": "markdown",
   "metadata": {},
   "source": [
    "# The Assignment Statement"
   ]
  },
  {
   "cell_type": "markdown",
   "metadata": {},
   "source": [
    "หน้า 340 (392 of 1594)\n",
    "Table 11-1"
   ]
  },
  {
   "cell_type": "markdown",
   "metadata": {},
   "source": [
    "Table 11-1. Assignment statement forms\n",
    "<table>\n",
    "    <tr>\n",
    "        <td><div align=center><b>Operation</b></div>\n",
    "        <td><div align=center><b>Interpretation</b></div>\n",
    "    <tr>\n",
    "        <td><div align=left><pre>spam = 'Spam'</pre></div>\n",
    "        <td><div align=left>Basic form</div>\n",
    "    <tr>\n",
    "        <td><div align=left><pre>spam, ham = 'yum', 'YUM'</pre></div>\n",
    "        <td><div align=left>Tuple assignment (positional)</div>\n",
    "    <tr>\n",
    "        <td><div align=left><pre>[spam, ham] = ['yum', 'YUM']</pre></div>\n",
    "        <td><div align=left>List assignment (positional)</div>       \n",
    "    <tr>\n",
    "        <td><div align=left><pre>a, b, c, d = 'spam'</pre></div>\n",
    "        <td><div align=left>Sequence assignment, generalized</div>\n",
    "    <tr>\n",
    "        <td><div align=left><pre>a, *b = 'spam'</pre></div>\n",
    "        <td><div align=left>Extended sequence unpacking (Python 3.X)</div>\n",
    "    <tr>\n",
    "        <td><div align=left><pre>spam = ham = 'lunch'</pre></div>\n",
    "        <td><div align=left>Multiple-target assignment</div>              \n",
    "    <tr>\n",
    "        <td><div align=left><pre>spams += 42</pre></div>\n",
    "        <td><div align=left>Augmented assignment (equivalent to spams = spams + 42)</div>\n",
    "</table>"
   ]
  },
  {
   "cell_type": "markdown",
   "metadata": {},
   "source": [
    "## Sequence Assignments"
   ]
  },
  {
   "cell_type": "code",
   "execution_count": 3,
   "metadata": {},
   "outputs": [
    {
     "data": {
      "text/plain": [
       "(2, 1)"
      ]
     },
     "execution_count": 3,
     "metadata": {},
     "output_type": "execute_result"
    }
   ],
   "source": [
    "nudge = 1\n",
    "wink = 2\n",
    "nudge, wink = wink, nudge     # Tuples: swaps values\n",
    "nudge, wink                   # Like T = nudge; nudge = wink; wink = T"
   ]
  },
  {
   "cell_type": "code",
   "execution_count": 4,
   "metadata": {},
   "outputs": [
    {
     "data": {
      "text/plain": [
       "(1, 3)"
      ]
     },
     "execution_count": 4,
     "metadata": {},
     "output_type": "execute_result"
    }
   ],
   "source": [
    "[a, b, c] = (1, 2, 3)         # Assign tuple of values to list of names\n",
    "a, c"
   ]
  },
  {
   "cell_type": "code",
   "execution_count": 5,
   "metadata": {},
   "outputs": [
    {
     "data": {
      "text/plain": [
       "('A', 'C')"
      ]
     },
     "execution_count": 5,
     "metadata": {},
     "output_type": "execute_result"
    }
   ],
   "source": [
    "(a, b, c) = \"ABC\"\n",
    "a, c"
   ]
  },
  {
   "cell_type": "markdown",
   "metadata": {},
   "source": [
    "<b>Advanced sequence assignment patterns</b>"
   ]
  },
  {
   "cell_type": "code",
   "execution_count": 4,
   "metadata": {},
   "outputs": [
    {
     "data": {
      "text/plain": [
       "('S', 'M')"
      ]
     },
     "execution_count": 4,
     "metadata": {},
     "output_type": "execute_result"
    }
   ],
   "source": [
    "string = 'SPAM'\n",
    "a, b, c, d = string         # Same number on both sidesa, d\n",
    "a, d"
   ]
  },
  {
   "cell_type": "code",
   "execution_count": 5,
   "metadata": {},
   "outputs": [
    {
     "ename": "ValueError",
     "evalue": "too many values to unpack (expected 3)",
     "output_type": "error",
     "traceback": [
      "\u001b[1;31m---------------------------------------------------------------------------\u001b[0m",
      "\u001b[1;31mValueError\u001b[0m                                Traceback (most recent call last)",
      "\u001b[1;32m<ipython-input-5-0e899b019575>\u001b[0m in \u001b[0;36m<module>\u001b[1;34m\u001b[0m\n\u001b[1;32m----> 1\u001b[1;33m \u001b[0ma\u001b[0m\u001b[1;33m,\u001b[0m \u001b[0mb\u001b[0m\u001b[1;33m,\u001b[0m \u001b[0mc\u001b[0m \u001b[1;33m=\u001b[0m \u001b[0mstring\u001b[0m\u001b[1;33m\u001b[0m\u001b[1;33m\u001b[0m\u001b[0m\n\u001b[0m",
      "\u001b[1;31mValueError\u001b[0m: too many values to unpack (expected 3)"
     ]
    }
   ],
   "source": [
    "a, b, c = string            # Error if not"
   ]
  },
  {
   "cell_type": "code",
   "execution_count": 7,
   "metadata": {},
   "outputs": [
    {
     "data": {
      "text/plain": [
       "('S', 'P', 'AM')"
      ]
     },
     "execution_count": 7,
     "metadata": {},
     "output_type": "execute_result"
    }
   ],
   "source": [
    "a, b, c = string[0], string[1], string[2:] # Index and slice\n",
    "a, b, c"
   ]
  },
  {
   "cell_type": "code",
   "execution_count": 9,
   "metadata": {},
   "outputs": [
    {
     "data": {
      "text/plain": [
       "('S', 'P', 'AM')"
      ]
     },
     "execution_count": 9,
     "metadata": {},
     "output_type": "execute_result"
    }
   ],
   "source": [
    "a, b, c = list(string[:2]) + [string[2:]] # Slice and concatenate\n",
    "a, b, c"
   ]
  },
  {
   "cell_type": "code",
   "execution_count": 11,
   "metadata": {},
   "outputs": [
    {
     "data": {
      "text/plain": [
       "('S', 'P', 'AM')"
      ]
     },
     "execution_count": 11,
     "metadata": {},
     "output_type": "execute_result"
    }
   ],
   "source": [
    "a, b = string[:2]                         # Same, but simpler\n",
    "c = string[2:]\n",
    "a, b, c"
   ]
  },
  {
   "cell_type": "code",
   "execution_count": 13,
   "metadata": {},
   "outputs": [
    {
     "data": {
      "text/plain": [
       "('S', 'P', 'AM')"
      ]
     },
     "execution_count": 13,
     "metadata": {},
     "output_type": "execute_result"
    }
   ],
   "source": [
    "((a, b), c) = ('SP', 'AM')               # Paired by shape and position\n",
    "a, b, c"
   ]
  },
  {
   "cell_type": "code",
   "execution_count": 14,
   "metadata": {},
   "outputs": [
    {
     "data": {
      "text/plain": [
       "(0, 2)"
      ]
     },
     "execution_count": 14,
     "metadata": {},
     "output_type": "execute_result"
    }
   ],
   "source": [
    "red, green, blue = range(3)\n",
    "red, blue"
   ]
  },
  {
   "cell_type": "code",
   "execution_count": 16,
   "metadata": {},
   "outputs": [
    {
     "data": {
      "text/plain": [
       "[0, 1, 2]"
      ]
     },
     "execution_count": 16,
     "metadata": {},
     "output_type": "execute_result"
    }
   ],
   "source": [
    "list(range(3))"
   ]
  },
  {
   "cell_type": "code",
   "execution_count": 70,
   "metadata": {},
   "outputs": [
    {
     "name": "stdout",
     "output_type": "stream",
     "text": [
      "1 [2, 3, 4]\n",
      "2 [3, 4]\n",
      "3 [4]\n",
      "4 []\n"
     ]
    }
   ],
   "source": [
    "L = [1, 2, 3, 4]\n",
    "front, L = L[0], L[1:]                # See next section for 3.X * alternative\n",
    "print(front, L)\n",
    "front, L = L[0], L[1:]                # See next section for 3.X * alternative\n",
    "print(front, L)\n",
    "front, L = L[0], L[1:]                # See next section for 3.X * alternative\n",
    "print(front, L)\n",
    "front, L = L[0], L[1:]                # See next section for 3.X * alternative\n",
    "print(front, L)"
   ]
  },
  {
   "cell_type": "markdown",
   "metadata": {},
   "source": [
    "## Extended Sequence Unpacking in Python 3.X"
   ]
  },
  {
   "cell_type": "markdown",
   "metadata": {},
   "source": [
    "<b>Extended unpacking in action</b>"
   ]
  },
  {
   "cell_type": "code",
   "execution_count": 69,
   "metadata": {},
   "outputs": [],
   "source": [
    "seq = [1, 2, 3, 4]"
   ]
  },
  {
   "cell_type": "code",
   "execution_count": 37,
   "metadata": {},
   "outputs": [
    {
     "name": "stdout",
     "output_type": "stream",
     "text": [
      "1 2 3 4\n"
     ]
    }
   ],
   "source": [
    "a, b, c, d = seq\n",
    "print(a, b, c, d)"
   ]
  },
  {
   "cell_type": "code",
   "execution_count": null,
   "metadata": {},
   "outputs": [],
   "source": [
    "a, b = seq"
   ]
  },
  {
   "cell_type": "code",
   "execution_count": 38,
   "metadata": {},
   "outputs": [
    {
     "data": {
      "text/plain": [
       "1"
      ]
     },
     "execution_count": 38,
     "metadata": {},
     "output_type": "execute_result"
    }
   ],
   "source": [
    "a, *b = seq\n",
    "a"
   ]
  },
  {
   "cell_type": "code",
   "execution_count": 39,
   "metadata": {},
   "outputs": [
    {
     "data": {
      "text/plain": [
       "[2, 3, 4]"
      ]
     },
     "execution_count": 39,
     "metadata": {},
     "output_type": "execute_result"
    }
   ],
   "source": [
    "b"
   ]
  },
  {
   "cell_type": "code",
   "execution_count": 41,
   "metadata": {},
   "outputs": [
    {
     "data": {
      "text/plain": [
       "[1, 2, 3]"
      ]
     },
     "execution_count": 41,
     "metadata": {},
     "output_type": "execute_result"
    }
   ],
   "source": [
    "*a, b = seq\n",
    "a"
   ]
  },
  {
   "cell_type": "code",
   "execution_count": 42,
   "metadata": {},
   "outputs": [
    {
     "data": {
      "text/plain": [
       "4"
      ]
     },
     "execution_count": 42,
     "metadata": {},
     "output_type": "execute_result"
    }
   ],
   "source": [
    "b"
   ]
  },
  {
   "cell_type": "code",
   "execution_count": 43,
   "metadata": {},
   "outputs": [
    {
     "data": {
      "text/plain": [
       "1"
      ]
     },
     "execution_count": 43,
     "metadata": {},
     "output_type": "execute_result"
    }
   ],
   "source": [
    "a, *b, c = seq\n",
    "a"
   ]
  },
  {
   "cell_type": "code",
   "execution_count": 44,
   "metadata": {},
   "outputs": [
    {
     "data": {
      "text/plain": [
       "[2, 3]"
      ]
     },
     "execution_count": 44,
     "metadata": {},
     "output_type": "execute_result"
    }
   ],
   "source": [
    "b"
   ]
  },
  {
   "cell_type": "code",
   "execution_count": 45,
   "metadata": {},
   "outputs": [
    {
     "data": {
      "text/plain": [
       "4"
      ]
     },
     "execution_count": 45,
     "metadata": {},
     "output_type": "execute_result"
    }
   ],
   "source": [
    "c"
   ]
  },
  {
   "cell_type": "code",
   "execution_count": 47,
   "metadata": {},
   "outputs": [
    {
     "data": {
      "text/plain": [
       "1"
      ]
     },
     "execution_count": 47,
     "metadata": {},
     "output_type": "execute_result"
    }
   ],
   "source": [
    "a, b, *c = seq\n",
    "a"
   ]
  },
  {
   "cell_type": "code",
   "execution_count": 48,
   "metadata": {},
   "outputs": [
    {
     "data": {
      "text/plain": [
       "2"
      ]
     },
     "execution_count": 48,
     "metadata": {},
     "output_type": "execute_result"
    }
   ],
   "source": [
    "b"
   ]
  },
  {
   "cell_type": "code",
   "execution_count": 49,
   "metadata": {},
   "outputs": [
    {
     "data": {
      "text/plain": [
       "[3, 4]"
      ]
     },
     "execution_count": 49,
     "metadata": {},
     "output_type": "execute_result"
    }
   ],
   "source": [
    "c"
   ]
  },
  {
   "cell_type": "code",
   "execution_count": 50,
   "metadata": {},
   "outputs": [
    {
     "data": {
      "text/plain": [
       "('s', ['p', 'a', 'm'])"
      ]
     },
     "execution_count": 50,
     "metadata": {},
     "output_type": "execute_result"
    }
   ],
   "source": [
    "a, *b = 'spam'\n",
    "a, b"
   ]
  },
  {
   "cell_type": "code",
   "execution_count": 51,
   "metadata": {},
   "outputs": [
    {
     "data": {
      "text/plain": [
       "('s', ['p', 'a'], 'm')"
      ]
     },
     "execution_count": 51,
     "metadata": {},
     "output_type": "execute_result"
    }
   ],
   "source": [
    "a, *b, c = 'spam'\n",
    "a, b, c"
   ]
  },
  {
   "cell_type": "code",
   "execution_count": 52,
   "metadata": {},
   "outputs": [
    {
     "data": {
      "text/plain": [
       "(0, [1, 2], 3)"
      ]
     },
     "execution_count": 52,
     "metadata": {},
     "output_type": "execute_result"
    }
   ],
   "source": [
    "a, *b, c = range(4)\n",
    "a, b, c"
   ]
  },
  {
   "cell_type": "code",
   "execution_count": 53,
   "metadata": {},
   "outputs": [
    {
     "data": {
      "text/plain": [
       "('s', 'pam')"
      ]
     },
     "execution_count": 53,
     "metadata": {},
     "output_type": "execute_result"
    }
   ],
   "source": [
    "S = 'spam'\n",
    "S[0] , S[1:]                         # Slices are type-specific, * assignment always returns a list"
   ]
  },
  {
   "cell_type": "code",
   "execution_count": 54,
   "metadata": {},
   "outputs": [
    {
     "data": {
      "text/plain": [
       "('s', 'pa', 'm')"
      ]
     },
     "execution_count": 54,
     "metadata": {},
     "output_type": "execute_result"
    }
   ],
   "source": [
    "S[0], S[1:3], S[3]"
   ]
  },
  {
   "cell_type": "code",
   "execution_count": 68,
   "metadata": {},
   "outputs": [
    {
     "name": "stdout",
     "output_type": "stream",
     "text": [
      "1 [2, 3, 4]\n",
      "2 [3, 4]\n",
      "3 [4]\n",
      "4 []\n"
     ]
    }
   ],
   "source": [
    "L = [1, 2, 3, 4]\n",
    "\n",
    "front, *L = L                   # Get first, rest without slicing\n",
    "print(front, L)\n",
    "front, *L = L                   # Get first, rest without slicing\n",
    "print(front, L)\n",
    "front, *L = L                   # Get first, rest without slicing\n",
    "print(front, L)\n",
    "front, *L = L                   # Get first, rest without slicing\n",
    "print(front, L)"
   ]
  },
  {
   "cell_type": "markdown",
   "metadata": {},
   "source": [
    "<b>Boundary case</b>"
   ]
  },
  {
   "cell_type": "code",
   "execution_count": 71,
   "metadata": {},
   "outputs": [
    {
     "name": "stdout",
     "output_type": "stream",
     "text": [
      "1 2 3 [4]\n"
     ]
    }
   ],
   "source": [
    "seq = [1, 2, 3, 4]\n",
    "a, b, c, *d = seq\n",
    "print(a, b, c, d)"
   ]
  },
  {
   "cell_type": "code",
   "execution_count": 72,
   "metadata": {},
   "outputs": [
    {
     "name": "stdout",
     "output_type": "stream",
     "text": [
      "1 2 3 4 []\n"
     ]
    }
   ],
   "source": [
    "a, b, c, d, *e = seq\n",
    "print(a, b, c, d, e)"
   ]
  },
  {
   "cell_type": "code",
   "execution_count": 73,
   "metadata": {},
   "outputs": [
    {
     "name": "stdout",
     "output_type": "stream",
     "text": [
      "1 2 3 4 []\n"
     ]
    }
   ],
   "source": [
    "a, b, *e, c, d = seq\n",
    "print(a, b, c, d, e)"
   ]
  },
  {
   "cell_type": "code",
   "execution_count": 75,
   "metadata": {},
   "outputs": [
    {
     "ename": "SyntaxError",
     "evalue": "two starred expressions in assignment (<ipython-input-75-c1609b2af02c>, line 1)",
     "output_type": "error",
     "traceback": [
      "\u001b[1;36m  File \u001b[1;32m\"<ipython-input-75-c1609b2af02c>\"\u001b[1;36m, line \u001b[1;32m1\u001b[0m\n\u001b[1;33m    a, *b, c, *d = seq\u001b[0m\n\u001b[1;37m    ^\u001b[0m\n\u001b[1;31mSyntaxError\u001b[0m\u001b[1;31m:\u001b[0m two starred expressions in assignment\n"
     ]
    }
   ],
   "source": [
    "a, *b, c, *d = seq"
   ]
  },
  {
   "cell_type": "code",
   "execution_count": 76,
   "metadata": {},
   "outputs": [
    {
     "ename": "ValueError",
     "evalue": "too many values to unpack (expected 2)",
     "output_type": "error",
     "traceback": [
      "\u001b[1;31m---------------------------------------------------------------------------\u001b[0m",
      "\u001b[1;31mValueError\u001b[0m                                Traceback (most recent call last)",
      "\u001b[1;32m<ipython-input-76-8a1b49c05b5f>\u001b[0m in \u001b[0;36m<module>\u001b[1;34m\u001b[0m\n\u001b[1;32m----> 1\u001b[1;33m \u001b[0ma\u001b[0m\u001b[1;33m,\u001b[0m \u001b[0mb\u001b[0m \u001b[1;33m=\u001b[0m \u001b[0mseq\u001b[0m\u001b[1;33m\u001b[0m\u001b[1;33m\u001b[0m\u001b[0m\n\u001b[0m",
      "\u001b[1;31mValueError\u001b[0m: too many values to unpack (expected 2)"
     ]
    }
   ],
   "source": [
    "a, b = seq"
   ]
  },
  {
   "cell_type": "code",
   "execution_count": 77,
   "metadata": {},
   "outputs": [
    {
     "ename": "SyntaxError",
     "evalue": "starred assignment target must be in a list or tuple (<ipython-input-77-0c03164bd60a>, line 1)",
     "output_type": "error",
     "traceback": [
      "\u001b[1;36m  File \u001b[1;32m\"<ipython-input-77-0c03164bd60a>\"\u001b[1;36m, line \u001b[1;32m1\u001b[0m\n\u001b[1;33m    *a = seq\u001b[0m\n\u001b[1;37m    ^\u001b[0m\n\u001b[1;31mSyntaxError\u001b[0m\u001b[1;31m:\u001b[0m starred assignment target must be in a list or tuple\n"
     ]
    }
   ],
   "source": [
    "*a = seq"
   ]
  },
  {
   "cell_type": "code",
   "execution_count": 78,
   "metadata": {},
   "outputs": [
    {
     "data": {
      "text/plain": [
       "[1, 2, 3, 4]"
      ]
     },
     "execution_count": 78,
     "metadata": {},
     "output_type": "execute_result"
    }
   ],
   "source": [
    "*a, = seq\n",
    "a"
   ]
  },
  {
   "cell_type": "markdown",
   "metadata": {},
   "source": [
    "<b>A useful convenience</b>"
   ]
  },
  {
   "cell_type": "code",
   "execution_count": 79,
   "metadata": {},
   "outputs": [
    {
     "data": {
      "text/plain": [
       "[1, 2, 3, 4]"
      ]
     },
     "execution_count": 79,
     "metadata": {},
     "output_type": "execute_result"
    }
   ],
   "source": [
    "seq"
   ]
  },
  {
   "cell_type": "code",
   "execution_count": 80,
   "metadata": {},
   "outputs": [
    {
     "data": {
      "text/plain": [
       "(1, [2, 3, 4])"
      ]
     },
     "execution_count": 80,
     "metadata": {},
     "output_type": "execute_result"
    }
   ],
   "source": [
    "a, *b = seq                   # First, rest\n",
    "a, b"
   ]
  },
  {
   "cell_type": "code",
   "execution_count": 81,
   "metadata": {},
   "outputs": [
    {
     "data": {
      "text/plain": [
       "(1, [2, 3, 4])"
      ]
     },
     "execution_count": 81,
     "metadata": {},
     "output_type": "execute_result"
    }
   ],
   "source": [
    "a, b = seq[0], seq[1:]       # First, rest: traditional\n",
    "a, b"
   ]
  },
  {
   "cell_type": "code",
   "execution_count": 83,
   "metadata": {},
   "outputs": [
    {
     "data": {
      "text/plain": [
       "([1, 2, 3], 4)"
      ]
     },
     "execution_count": 83,
     "metadata": {},
     "output_type": "execute_result"
    }
   ],
   "source": [
    "*a, b = seq                  # Rest, last\n",
    "a, b"
   ]
  },
  {
   "cell_type": "code",
   "execution_count": 82,
   "metadata": {},
   "outputs": [
    {
     "data": {
      "text/plain": [
       "([1, 2, 3], 4)"
      ]
     },
     "execution_count": 82,
     "metadata": {},
     "output_type": "execute_result"
    }
   ],
   "source": [
    "a, b = seq[:-1], seq[-1]     # Rest, last: traditional\n",
    "a, b"
   ]
  },
  {
   "cell_type": "markdown",
   "metadata": {},
   "source": [
    "<b>Application to for loops</b>"
   ]
  },
  {
   "cell_type": "markdown",
   "metadata": {},
   "source": [
    "<b>Multiple-Target Assignments</b>"
   ]
  },
  {
   "cell_type": "code",
   "execution_count": 85,
   "metadata": {},
   "outputs": [
    {
     "data": {
      "text/plain": [
       "('spam', 'spam', 'spam')"
      ]
     },
     "execution_count": 85,
     "metadata": {},
     "output_type": "execute_result"
    }
   ],
   "source": [
    "a = b = c = 'spam'\n",
    "a, b, c"
   ]
  },
  {
   "cell_type": "code",
   "execution_count": 86,
   "metadata": {},
   "outputs": [],
   "source": [
    "c = 'spam'\n",
    "b = c\n",
    "a = b"
   ]
  },
  {
   "cell_type": "markdown",
   "metadata": {},
   "source": [
    "<b>Multiple-target assignment and shared references</b>"
   ]
  },
  {
   "cell_type": "code",
   "execution_count": 87,
   "metadata": {},
   "outputs": [
    {
     "data": {
      "text/plain": [
       "(0, 1)"
      ]
     },
     "execution_count": 87,
     "metadata": {},
     "output_type": "execute_result"
    }
   ],
   "source": [
    "a = b = 0\n",
    "b = b + 1\n",
    "a, b"
   ]
  },
  {
   "cell_type": "code",
   "execution_count": 88,
   "metadata": {},
   "outputs": [
    {
     "data": {
      "text/plain": [
       "([42], [42])"
      ]
     },
     "execution_count": 88,
     "metadata": {},
     "output_type": "execute_result"
    }
   ],
   "source": [
    "a = b = []\n",
    "b.append(42)\n",
    "a, b"
   ]
  },
  {
   "cell_type": "code",
   "execution_count": 89,
   "metadata": {},
   "outputs": [
    {
     "data": {
      "text/plain": [
       "([], [42])"
      ]
     },
     "execution_count": 89,
     "metadata": {},
     "output_type": "execute_result"
    }
   ],
   "source": [
    "a = []\n",
    "b = []                          # a and b do not share the same object\n",
    "b.append(42)\n",
    "a, b"
   ]
  },
  {
   "cell_type": "code",
   "execution_count": 90,
   "metadata": {},
   "outputs": [],
   "source": [
    "a, b = [], []                  # a and b do not share the same object"
   ]
  },
  {
   "cell_type": "markdown",
   "metadata": {},
   "source": [
    "## Augmented Assignments"
   ]
  },
  {
   "cell_type": "markdown",
   "metadata": {},
   "source": [
    "<div align=center><b>Table 11-2. Augmented assignment statements</b></div>\n",
    "<table>\n",
    "    <tr>\n",
    "        <td><div align=center>X += Y</div>\n",
    "        <td><div align=center>X &= Y</div>\n",
    "        <td><div align=center>X −= Y</div>\n",
    "        <td><div align=center>X |= Y</div>\n",
    "    <tr>\n",
    "        <td><div align=center>X *= Y</div>\n",
    "        <td><div align=center>X ^= Y</div>\n",
    "        <td><div align=center>X /= Y</div>\n",
    "        <td><div align=center>X >>= Y</div>\n",
    "    <tr>\n",
    "        <td><div align=center>X %= Y</div>\n",
    "        <td><div align=center>X <<= Y</div>\n",
    "        <td><div align=center>X **= Y</div>\n",
    "        <td><div align=center>X //= Y</div>\n",
    "     <tr>\n",
    " </table>"
   ]
  },
  {
   "cell_type": "code",
   "execution_count": 108,
   "metadata": {},
   "outputs": [
    {
     "data": {
      "text/plain": [
       "2"
      ]
     },
     "execution_count": 108,
     "metadata": {},
     "output_type": "execute_result"
    }
   ],
   "source": [
    "x = 1\n",
    "x = x + 1                     # Traditional\n",
    "x"
   ]
  },
  {
   "cell_type": "code",
   "execution_count": 109,
   "metadata": {},
   "outputs": [
    {
     "data": {
      "text/plain": [
       "3"
      ]
     },
     "execution_count": 109,
     "metadata": {},
     "output_type": "execute_result"
    }
   ],
   "source": [
    "x += 1                       # Augmented\n",
    "x"
   ]
  },
  {
   "cell_type": "code",
   "execution_count": 110,
   "metadata": {},
   "outputs": [
    {
     "data": {
      "text/plain": [
       "'spamSPAM'"
      ]
     },
     "execution_count": 110,
     "metadata": {},
     "output_type": "execute_result"
    }
   ],
   "source": [
    "S = \"spam\"\n",
    "S += \"SPAM\"                 # Implied concatenation\n",
    "S"
   ]
  },
  {
   "cell_type": "markdown",
   "metadata": {},
   "source": [
    "1. C/C++ programmers take note: although Python now supports statements like X += Y, it still does not\n",
    "have C’s auto-increment/decrement operators (e.g., X++, −−X). These don’t quite map to the Python object\n",
    "model because Python has no notion of in-place changes to immutable objects like numbers."
   ]
  },
  {
   "cell_type": "code",
   "execution_count": 114,
   "metadata": {},
   "outputs": [
    {
     "data": {
      "text/plain": [
       "[1, 2, 3]"
      ]
     },
     "execution_count": 114,
     "metadata": {},
     "output_type": "execute_result"
    }
   ],
   "source": [
    "L = [1, 2]\n",
    "L = L + [3]                 # Concatenate: slower\n",
    "L"
   ]
  },
  {
   "cell_type": "code",
   "execution_count": 112,
   "metadata": {},
   "outputs": [
    {
     "data": {
      "text/plain": [
       "[5, 6, 4]"
      ]
     },
     "execution_count": 112,
     "metadata": {},
     "output_type": "execute_result"
    }
   ],
   "source": [
    "L.append(4)                 # Faster, but in place\n",
    "L"
   ]
  },
  {
   "cell_type": "code",
   "execution_count": 111,
   "metadata": {},
   "outputs": [
    {
     "data": {
      "text/plain": [
       "[5, 6]"
      ]
     },
     "execution_count": 111,
     "metadata": {},
     "output_type": "execute_result"
    }
   ],
   "source": [
    "L = L + [5, 6]             # Concatenate: slower\n",
    "L"
   ]
  },
  {
   "cell_type": "code",
   "execution_count": null,
   "metadata": {},
   "outputs": [],
   "source": [
    "L.extend([7, 8])           # Faster, but in place\n",
    "L"
   ]
  },
  {
   "cell_type": "code",
   "execution_count": null,
   "metadata": {},
   "outputs": [],
   "source": [
    "L += [9, 10]               # Mapped to L.extend([9, 10])\n",
    "L"
   ]
  },
  {
   "cell_type": "code",
   "execution_count": null,
   "metadata": {},
   "outputs": [],
   "source": [
    "L = []\n",
    "L += 'spam'                # += and extend allow any sequence, but + does not!"
   ]
  },
  {
   "cell_type": "markdown",
   "metadata": {},
   "source": [
    "2. As suggested in Chapter 6, we can also use slice assignment (e.g., L[len(L):] = [11,12,13]), but this\n",
    "works roughly the same as the simpler and more mnemonic list extend method."
   ]
  },
  {
   "cell_type": "code",
   "execution_count": 115,
   "metadata": {},
   "outputs": [
    {
     "data": {
      "text/plain": [
       "[1, 2, 3]"
      ]
     },
     "execution_count": 115,
     "metadata": {},
     "output_type": "execute_result"
    }
   ],
   "source": [
    "L"
   ]
  },
  {
   "cell_type": "code",
   "execution_count": 116,
   "metadata": {},
   "outputs": [
    {
     "ename": "TypeError",
     "evalue": "can only concatenate list (not \"str\") to list",
     "output_type": "error",
     "traceback": [
      "\u001b[1;31m---------------------------------------------------------------------------\u001b[0m",
      "\u001b[1;31mTypeError\u001b[0m                                 Traceback (most recent call last)",
      "\u001b[1;32m<ipython-input-116-be5cb7787112>\u001b[0m in \u001b[0;36m<module>\u001b[1;34m\u001b[0m\n\u001b[1;32m----> 1\u001b[1;33m \u001b[0mL\u001b[0m \u001b[1;33m=\u001b[0m \u001b[0mL\u001b[0m \u001b[1;33m+\u001b[0m \u001b[1;34m'spam'\u001b[0m\u001b[1;33m\u001b[0m\u001b[1;33m\u001b[0m\u001b[0m\n\u001b[0m",
      "\u001b[1;31mTypeError\u001b[0m: can only concatenate list (not \"str\") to list"
     ]
    }
   ],
   "source": [
    "L = L + 'spam'"
   ]
  },
  {
   "cell_type": "markdown",
   "metadata": {},
   "source": [
    "<b>Augmented assignment and shared references</b>"
   ]
  },
  {
   "cell_type": "code",
   "execution_count": 117,
   "metadata": {},
   "outputs": [
    {
     "data": {
      "text/plain": [
       "([1, 2, 3, 4], [1, 2])"
      ]
     },
     "execution_count": 117,
     "metadata": {},
     "output_type": "execute_result"
    }
   ],
   "source": [
    "L = [1, 2]\n",
    "M = L                              # L and M reference the same object\n",
    "L = L + [3, 4]                     # Concatenation makes a new object\n",
    "L, M                               # Changes L but not M"
   ]
  },
  {
   "cell_type": "code",
   "execution_count": 118,
   "metadata": {},
   "outputs": [
    {
     "data": {
      "text/plain": [
       "([1, 2, 3, 4], [1, 2, 3, 4])"
      ]
     },
     "execution_count": 118,
     "metadata": {},
     "output_type": "execute_result"
    }
   ],
   "source": [
    "L = [1, 2]\n",
    "M = L\n",
    "L += [3, 4] # But += really means extend\n",
    "L, M"
   ]
  },
  {
   "cell_type": "markdown",
   "metadata": {},
   "source": [
    "## Variable Name Rules"
   ]
  },
  {
   "cell_type": "markdown",
   "metadata": {},
   "source": [
    "Table 11-3. Python 3.X reserved words\n",
    "<table>\n",
    "    <tr>\n",
    "        <td><div align=center><b>False</b></div>\n",
    "        <td><div align=center><b>Class</b></div>\n",
    "        <td><div align=center><b>finally</b></div>    \n",
    "        <td><div align=center><b>is</b></div>\n",
    "        <td><div align=center><b>return</b></div>\n",
    "    <tr>\n",
    "        <td><div align=Left><pre>None</pre></div>\n",
    "        <td><div align=Left><pre>ontinue</pre></div>\n",
    "        <td><div align=Left><pre>for</pre></div>\n",
    "        <td><div align=Left><pre>lambda</pre></div>\n",
    "        <td><div align=Left><pre>try</pre></div>\n",
    "    <tr>\n",
    "        <td><div align=Left><pre>True</pre></div>\n",
    "        <td><div align=Left><pre>def</pre></div>\n",
    "        <td><div align=Left><pre>from</pre></div>\n",
    "        <td><div align=Left><pre>nonlocal</pre></div>\n",
    "        <td><div align=Left><pre>while</pre></div>\n",
    "    <tr>\n",
    "        <td><div align=Left><pre>and</pre></div>\n",
    "        <td><div align=Left><pre>del</pre></div>\n",
    "        <td><div align=Left><pre>global</pre></div>\n",
    "        <td><div align=Left><pre>not</pre></div>\n",
    "        <td><div align=Left><pre>with</pre></div>\n",
    "    <tr>\n",
    "        <td><div align=Left><pre>as</pre></div>\n",
    "        <td><div align=Left><pre>elif</pre></div>\n",
    "        <td><div align=Left><pre>if</pre></div>\n",
    "        <td><div align=Left><pre>or</pre></div>\n",
    "        <td><div align=Left><pre>yield</pre></div>\n",
    "    <tr>\n",
    "        <td><div align=Left><pre>assert</pre></div>\n",
    "        <td><div align=Left><pre>else</pre></div>\n",
    "        <td><div align=Left><pre>import</pre></div>\n",
    "        <td><div align=Left><pre>pass</pre></div>\n",
    "        <td><div align=Left><pre></pre></div>\n",
    "    <tr>\n",
    "        <td><div align=Left><pre>break</pre></div>\n",
    "        <td><div align=Left><pre>except</pre></div>\n",
    "        <td><div align=Left><pre>in</pre></div>\n",
    "        <td><div align=Left><pre>raise</pre></div>\n",
    "        <td><div align=Left><pre></pre></div>\n",
    "       \n",
    "</table>"
   ]
  },
  {
   "cell_type": "markdown",
   "metadata": {},
   "source": [
    "<b>Names have no type, but objects do</b>"
   ]
  },
  {
   "cell_type": "code",
   "execution_count": 1,
   "metadata": {},
   "outputs": [],
   "source": [
    "x = 0                           # x bound to an integer object\n",
    "x = \"Holle\"                     # Now it's a string\n",
    "x = [1, 2, 3]                   # And now it's a list"
   ]
  },
  {
   "cell_type": "markdown",
   "metadata": {},
   "source": [
    "## Expression Statements"
   ]
  },
  {
   "cell_type": "markdown",
   "metadata": {},
   "source": [
    "Table 11-4. Common Python expression statements\n",
    "<table>\n",
    "    <tr>\n",
    "        <td><div align=center><b>Operation</b></div>\n",
    "        <td><div align=center><b>Interpretation</b></div>\n",
    "    <tr>\n",
    "        <td><div align=Left><pre>spam(eggs, ham)</pre></div>\n",
    "        <td><div align=Left>Function Calls</div>\n",
    "    <tr>\n",
    "        <td><div align=Left><pre>spam.ham(eggs)</pre></div>\n",
    "        <td><div align=Left>Method calls</div>\n",
    "    <tr>\n",
    "        <td><div align=Left><pre>spam</pre></div>\n",
    "        <td><div align=Left>Printing variables in the interactive interpreter</div>\n",
    "    <tr>\n",
    "        <td><div align=Left><pre>print(a, b, c, sep='')</pre></div>\n",
    "        <td><div align=Left>Printing operations in Python 3.X</div>\n",
    "    <tr>\n",
    "        <td><div align=Left><pre>yield x ** 2</pre></div>\n",
    "        <td><div align=Left>Yielding expression statements</div>\n",
    "</tabel>    \n",
    "         "
   ]
  },
  {
   "cell_type": "markdown",
   "metadata": {},
   "source": [
    "<b>Statement forms</b>"
   ]
  },
  {
   "cell_type": "markdown",
   "metadata": {},
   "source": [
    "Table 11-5. Python 2.X print statement forms\n",
    "<table>\n",
    "    <tr>\n",
    "         <td><div align=left><b>Python 2.X statement</b></div>\n",
    "         <td><div align=left><b>Python 3.X equivalent</b></div>\n",
    "         <td><div align=left><b>Interpretation</b></div>   \n",
    "    <tr>\n",
    "        <td><div align=left>print x, y</div>\n",
    "        <td><div align=left>print(x, y)</div>\n",
    "        <td><div align=left>Print objects’ textual forms to sys.stdout; add a\n",
    "space between the items and an end-of-line at the end</div>\n",
    "    <tr>\n",
    "          <td><div align=left>print x, y,</div>\n",
    "         <td><div align=left>print(x, y, end='')</div>\n",
    "         <td><div align=left>Same, but don’t add end-of-line at end of text</div>\n",
    "   <tr>\n",
    "       <td><div align=left>print >> afile, x, y</div>\n",
    "       <td><div align=left>print(x, y, file=afile)</div>\n",
    "        <td><div align=left>Send text to afile.write, not to\n",
    "sys.stdout.write)</div>\n",
    "    <tr>\n",
    "            \n",
    " </table>"
   ]
  }
 ],
 "metadata": {
  "kernelspec": {
   "display_name": "Python 3",
   "language": "python",
   "name": "python3"
  },
  "language_info": {
   "codemirror_mode": {
    "name": "ipython",
    "version": 3
   },
   "file_extension": ".py",
   "mimetype": "text/x-python",
   "name": "python",
   "nbconvert_exporter": "python",
   "pygments_lexer": "ipython3",
   "version": "3.8.7"
  }
 },
 "nbformat": 4,
 "nbformat_minor": 4
}
