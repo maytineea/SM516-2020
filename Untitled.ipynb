{
 "cells": [
  {
   "cell_type": "markdown",
   "metadata": {},
   "source": [
    "# <center>Statement"
   ]
  },
  {
   "cell_type": "markdown",
   "metadata": {},
   "source": [
    "<img src=\"https://drive.google.com/uc?id=1OCu-J_e5A3EtFQ6wLXjus9JGRjvy8ug0\" align=right width=100>"
   ]
  },
  {
   "cell_type": "markdown",
   "metadata": {},
   "source": [
    "ขั้\n",
    "1. Programs are composed of modules.\n",
    "2. Modules contain statements.\n",
    "3. Statements contain expressions.\n",
    "4. Expressions create and process objects."
   ]
  },
  {
   "cell_type": "markdown",
   "metadata": {},
   "source": [
    "# Python Statement"
   ]
  },
  {
   "cell_type": "markdown",
   "metadata": {},
   "source": [
    "<table>\n",
    "    <tr>\n",
    "        <td> <div align=center><b>Statement</b></div>\n",
    "        <td> <div align=center><b>หน้าที่ Role</b></div>\n",
    "        <td> <div align=center><b>ตัวอย่าง Example</b></div>\n",
    "     <tr>\n",
    "        <td>Assignment การให้ค่า\n",
    "        <td>Creating references สร้างเพื่อชี้ไปที่ค่า\n",
    "        <td><pre>a, b = 'good', 'bad'</pre>\n",
    "            <div align=center>ทางขวามือเรียกว่า Literals</div>\n",
    "     <tr>\n",
    "        <td>Calls and other expressions\n",
    "        <td>Running functions\n",
    "        <td><pre>log.write(\"spam, ham\")</pre>\n",
    "     <tr>\n",
    "        <td>print calls\n",
    "        <td>Printing objects\n",
    "        <td><pre>print('The Killer', joke)</pre>\n",
    "     <tr>\n",
    "        <td>if/elif/else\n",
    "        <td>Selecting actions\n",
    "        <td><pre>if \"python\" in text:</pre>\n",
    "            <div align=center>print(text)</div>\n",
    "     <tr>\n",
    "        <td>for/else\n",
    "        <td>Iteration\n",
    "        <td><pre>for x in mylist:</pre>\n",
    "            <div align=center>print(x)</div>\n",
    "     <tr>\n",
    "        <td>\n",
    "        <td>\n",
    "        <td><pre></pre>\n",
    "            <div align=center></div>\n",
    "            \n",
    "            \n",
    "            \n",
    "              \n",
    "</table>"
   ]
  },
  {
   "cell_type": "markdown",
   "metadata": {},
   "source": [
    "statement บน python มีลักษณะสำคัญ\n",
    "\n",
    "1. ใช้กั้นหน้า (Indent) บอก Statement ระดับของกันหน้า ตามเครื่องหมายทวิภาค (:)\n",
    "1. หลีกเลี่ยงการใช้วงเล็บ \"()\" วงเล็บใช้กับตัวเก็บ (Container) แบบ Tuple"
   ]
  },
  {
   "cell_type": "markdown",
   "metadata": {},
   "source": [
    "# The Assignment Statement"
   ]
  },
  {
   "cell_type": "markdown",
   "metadata": {},
   "source": [
    "หน้า 340 (392 of 1594)"
   ]
  },
  {
   "cell_type": "markdown",
   "metadata": {},
   "source": [
    "## Sequence Assignments"
   ]
  },
  {
   "cell_type": "code",
   "execution_count": 3,
   "metadata": {},
   "outputs": [
    {
     "data": {
      "text/plain": [
       "(2, 1)"
      ]
     },
     "execution_count": 3,
     "metadata": {},
     "output_type": "execute_result"
    }
   ],
   "source": [
    "nudge = 1\n",
    "wink = 2\n",
    "nudge, wink = wink, nudge     # Tuples: swaps values\n",
    "nudge, wink                   # Like T = nudge; nudge = wink; wink = T"
   ]
  },
  {
   "cell_type": "code",
   "execution_count": 4,
   "metadata": {},
   "outputs": [
    {
     "data": {
      "text/plain": [
       "(1, 3)"
      ]
     },
     "execution_count": 4,
     "metadata": {},
     "output_type": "execute_result"
    }
   ],
   "source": [
    "[a, b, c] = (1, 2, 3)         # Assign tuple of values to list of names\n",
    "a, c"
   ]
  },
  {
   "cell_type": "code",
   "execution_count": 5,
   "metadata": {},
   "outputs": [
    {
     "data": {
      "text/plain": [
       "('A', 'C')"
      ]
     },
     "execution_count": 5,
     "metadata": {},
     "output_type": "execute_result"
    }
   ],
   "source": [
    "(a, b, c) = \"ABC\"\n",
    "a, c"
   ]
  },
  {
   "cell_type": "code",
   "execution_count": null,
   "metadata": {},
   "outputs": [],
   "source": []
  }
 ],
 "metadata": {
  "kernelspec": {
   "display_name": "Python 3",
   "language": "python",
   "name": "python3"
  },
  "language_info": {
   "codemirror_mode": {
    "name": "ipython",
    "version": 3
   },
   "file_extension": ".py",
   "mimetype": "text/x-python",
   "name": "python",
   "nbconvert_exporter": "python",
   "pygments_lexer": "ipython3",
   "version": "3.8.7"
  }
 },
 "nbformat": 4,
 "nbformat_minor": 4
}
